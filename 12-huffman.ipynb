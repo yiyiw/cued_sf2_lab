{
 "cells": [
  {
   "cell_type": "code",
   "execution_count": 2,
   "metadata": {},
   "outputs": [],
   "source": [
    "import numpy as np\n",
    "import matplotlib.pyplot as plt\n",
    "import IPython.display\n",
    "from cued_sf2_lab.familiarisation import load_mat_img, plot_image"
   ]
  },
  {
   "attachments": {},
   "cell_type": "markdown",
   "metadata": {},
   "source": [
    "# 12. Combined run-length / Huffman coding methods\n",
    "\n",
    "<div class=\"alert alert-warning alert-block\">\n",
    "    \n",
    "This notebook is incomplete!</div>\n",
    "\n",
    "Up to this point, we have been using entropy as a measure of the number of bits for the\n",
    "compressed image.  Now we attempt to produce a vector of compressed image data\n",
    "which accurately represents the compression that can be achieved in practise.\n",
    "\n",
    "Huffman codes are relatively\n",
    "efficient at coding data with non-uniform probability distributions, provided\n",
    "that the probability of any single event does not exceed 50%.  However, when\n",
    "an image is transformed by any of the energy compaction methods\n",
    "considered so far, a high proportion of the quantised coefficients are zero,\n",
    "so this event usually does have a probability much greater than 50%.  In fact\n",
    "it is only when this _is_ a high probability event that high compression\n",
    "can be achieved!  Therefore new ways of using Huffman codes have been\n",
    "developed to deal with this situation as efficiently as possible."
   ]
  },
  {
   "attachments": {},
   "cell_type": "markdown",
   "metadata": {},
   "source": [
    "## 12.1 Baseline JPEG coding techniques\n",
    "\n",
    "The standard Huffman coding solution, used by the baseline JPEG\n",
    "specification and most other image compression standards, is to code each\n",
    "non-zero coefficient combined with the number of zero coefficients which\n",
    "preceed it as a single event.\n",
    "\n",
    "For example the sequence of coefficients:\n",
    "$$\n",
    "3, 0, 0, -2, 0, 0, 0, 1, 0, -3, -1, 0, 0, 0, 0, 1, \\ldots\n",
    "$$\n",
    "would be coded as the following 6 events:\n",
    "```\n",
    "0 zeros, 3\n",
    "2 zeros, -2\n",
    "3 zeros, 1\n",
    "1 zero, -3\n",
    "0 zeros, -1\n",
    "4 zeros, 1\n",
    "```\n",
    "\n",
    "Each event has a certain probability (usually well below 50%) and\n",
    "can be coded efficiently with a standard Huffman code.  As\n",
    "formulated above, the number of combinations of amplitude and\n",
    "run-length can be very large, leading to a highly complex code.\n",
    "JPEG limits this complexity to only 162 combinations by\n",
    "restricting the maximum run-length to 15 zeros and by coding only\n",
    "the base-2 logarithm of the amplitude in the Huffman code, rounded\n",
    "up to integers from 1 to 10.  The sign bit and the remaining\n",
    "amplitude bits are then appended to the Huffman code word.  16 run lengths (0 to\n",
    "15) and 10 log amplitudes (1 to 10) give 160 of the code words.\n",
    "The other two codewords are the end-of-block word (EOB),\n",
    "signifying no more non-zero coefficients in the current block, and\n",
    "the run-of-16 word (ZRL), which may be used repetitively ahead of\n",
    "another codeword for runs of 16 or more zeros.\n",
    "\n",
    "JPEG is based on $8 \\times 8$ DCT transformations of the image, and the data\n",
    "from each $8 \\times 8$ block of DCT coefficients is coded as a block of\n",
    "Huffman codewords.  First the dc coefficient (top left corner) is coded.\n",
    "There is little penalty in using a fixed-length binary code for this, although\n",
    "JPEG uses differential and Huffman coding for slightly improved performance.\n",
    "Then the remaining 63 ac coefficients are arranged into a linear vector, by\n",
    "scanning the $8 \\times 8$ block in a zig-zag manner corresponding to\n",
    "progressively increasing frequencies (see the JPEG standard, section 3, fig 5).  This places\n",
    "the larger low-frequency coefficients close together near the start of the\n",
    "vector (with short run lengths) and the smaller high-frequency coefficients\n",
    "spread out towards the end of the vector (with long run lengths).  The\n",
    "end-of-block word efficiently terminates the coding of each block after the\n",
    "last non-zero coefficient.\n",
    "\n",
    "For further details of the JPEG techniques, referred to above, see the JPEG\n",
    "standard, sections 3.3 and 3.6 and appendices A.3, C, F.1.1, F.1.2, F.2.1,\n",
    "F.2.2, K.1, K.2, and K.3.  Note that for this project we ignore the higher\n",
    "layers of the JPEG specification, and do not align code segments with byte\n",
    "boundaries or use two-byte marker codes to identify different data segments.\n",
    "JPEG also permits arithmetic codes to be used instead of Huffman codes, but\n",
    "these are more complicated so we recommend that you should use the latter.\n"
   ]
  },
  {
   "attachments": {},
   "cell_type": "markdown",
   "metadata": {},
   "source": [
    "## 12.2 Python implementation of Huffman coding\n",
    "\n",
    "<div class=\"alert alert-warning alert-block\">\n",
    "    \n",
    "This section is **very** incomplete!</div>\n",
    "\n",
    "\n",
    "The file at `cued_sf2_lab/jpeg.py` contains implementations of the following functions:\n",
    "\n",
    "* `jpegenc`: perform simplified JPEG encoding of an image `X` into a matrix of variable length codewords `vlc`.\n",
    "* `jpegdec`: perform simplified JPEG decoding of a codeword matrix `vlc` into an image `Z`.\n",
    "* `quant1`: quantise a matrix into integers representing the quantiser step numbers, which is the form necessary to allow Huffman coding.\n",
    "* `quant2`: reconstruct a matrix from integers.  Together with `quant1` this is equivalent to `quantise`.\n",
    "* `runampl`: convert a vector of coefficients `a` into a matrix of run-length, log-amplitude and signed-remainder values `rsa`.\n",
    "* `huffenc`: convert a run/amplitude matrix `rsa` into a matrix of variable-length codewords `vlc`.\n",
    "* `huffdflt`: generate the specification table `hufftab`, for the default JPEG Huffman code tables for AC luminance\n",
    "or AC chrominance coefficients (JPEG specification, appendix K.3.3.2).\n",
    "* `huffdes`: design the specification table, `hufftab`, for optimised JPEG Huffman code tables using a histogram of\n",
    "codeword usage `huffhist`.\n",
    "* `huffgen`: generate the Huffman code tables, `huffcode` and `ehuf`, from `hufftab`."
   ]
  },
  {
   "cell_type": "code",
   "execution_count": 3,
   "metadata": {},
   "outputs": [],
   "source": [
    "from cued_sf2_lab.jpeg import (\n",
    "    jpegenc, jpegdec, quant1, quant2, huffenc, huffdflt, huffdes, huffgen)"
   ]
  },
  {
   "attachments": {},
   "cell_type": "markdown",
   "metadata": {},
   "source": [
    "In order to allow relatively fast decoding in Python, we have cheated a\n",
    "little in the format of the coded data.  Each variable-length codeword is\n",
    "stored as an integer element of the required word length in the first column\n",
    "of a 2-column matrix `vlc` and the length of the codeword in bits is\n",
    "stored next to it in the second column.  We do not bother to pack this data\n",
    "into a serial bit stream since it is awkward and time consuming to unpack in\n",
    "Matlab, and we have not got around to changing this now that the lab is in Python!\n",
    "The length of the bit-stream if it were packed can easily be obtained\n",
    "from `vlc[:,1].sum()`."
   ]
  },
  {
   "attachments": {},
   "cell_type": "markdown",
   "metadata": {},
   "source": [
    "To perform the simplified JPEG encoding, based on the $8 \\times 8$ DCT,\n",
    "load the image in `X` and type:  `vlc, hufftab = jpegenc(X, qstep)`.\n",
    "You can inspect the codewords with `dict(zip(hufftab.huffval, hufftab.codes))`."
   ]
  },
  {
   "cell_type": "code",
   "execution_count": 4,
   "metadata": {},
   "outputs": [
    {
     "ename": "ModuleNotFoundError",
     "evalue": "No module named 'cv2'",
     "output_type": "error",
     "traceback": [
      "\u001b[0;31m---------------------------------------------------------------------------\u001b[0m",
      "\u001b[0;31mModuleNotFoundError\u001b[0m                       Traceback (most recent call last)",
      "Cell \u001b[0;32mIn[4], line 4\u001b[0m\n\u001b[1;32m      2\u001b[0m \u001b[39mimport\u001b[39;00m \u001b[39mnumpy\u001b[39;00m \u001b[39mas\u001b[39;00m \u001b[39mnp\u001b[39;00m\n\u001b[1;32m      3\u001b[0m \u001b[39mfrom\u001b[39;00m \u001b[39mcued_sf2_lab\u001b[39;00m\u001b[39m.\u001b[39;00m\u001b[39mlaplacian_pyramid\u001b[39;00m \u001b[39mimport\u001b[39;00m bpp\n\u001b[0;32m----> 4\u001b[0m \u001b[39mimport\u001b[39;00m \u001b[39mcv2\u001b[39;00m\n\u001b[1;32m      6\u001b[0m \u001b[39mfrom\u001b[39;00m \u001b[39mskimage\u001b[39;00m\u001b[39m.\u001b[39;00m\u001b[39mmetrics\u001b[39;00m \u001b[39mimport\u001b[39;00m structural_similarity\n\u001b[1;32m      7\u001b[0m \u001b[39mimport\u001b[39;00m \u001b[39mcv2\u001b[39;00m\n",
      "\u001b[0;31mModuleNotFoundError\u001b[0m: No module named 'cv2'"
     ]
    }
   ],
   "source": [
    "import math\n",
    "import numpy as np\n",
    "from cued_sf2_lab.laplacian_pyramid import bpp\n",
    "import cv2\n",
    "\n",
    "from skimage.metrics import structural_similarity\n",
    "import cv2\n",
    "\n",
    "def rms_err(Zp, X):\n",
    "        \"\"\"Calculates the RMS error between two images\"\"\"\n",
    "        return np.std(Zp - X)\n",
    "\n",
    "def calculate_bits(X): \n",
    "        \"\"\"Calculates the number of bits in an image\"\"\"\n",
    "        entropy = bpp(X)\n",
    "        bits = np.shape(X)[0]*np.shape(X)[1]*entropy\n",
    "        return bits\n",
    "\n",
    "def ssim(img1, img2):\n",
    "    # Compute SSIM between two images\n",
    "    (score, diff) = structural_similarity(img1, img2, full=True)\n",
    "    return score\n",
    "\n",
    "def calculate_psnr(img1, img2):\n",
    "    # img1 and img2 have range [0, 255]\n",
    "    img1 = img1.astype(np.float64)\n",
    "    img2 = img2.astype(np.float64)\n",
    "    mse = np.mean((img1 - img2)**2)\n",
    "    if mse == 0:\n",
    "        return float('inf')\n",
    "    return 20 * math.log10(255.0 / math.sqrt(mse))\n",
    "\n",
    "def ssim(img1, img2):\n",
    "    C1 = (0.01 * 255)**2\n",
    "    C2 = (0.03 * 255)**2\n",
    "\n",
    "    img1 = img1.astype(np.float64)\n",
    "    img2 = img2.astype(np.float64)\n",
    "    kernel = cv2.getGaussianKernel(11, 1.5)\n",
    "    window = np.outer(kernel, kernel.transpose())\n",
    "\n",
    "    mu1 = cv2.filter2D(img1, -1, window)[5:-5, 5:-5]  # valid\n",
    "    mu2 = cv2.filter2D(img2, -1, window)[5:-5, 5:-5]\n",
    "    mu1_sq = mu1**2\n",
    "    mu2_sq = mu2**2\n",
    "    mu1_mu2 = mu1 * mu2\n",
    "    sigma1_sq = cv2.filter2D(img1**2, -1, window)[5:-5, 5:-5] - mu1_sq\n",
    "    sigma2_sq = cv2.filter2D(img2**2, -1, window)[5:-5, 5:-5] - mu2_sq\n",
    "    sigma12 = cv2.filter2D(img1 * img2, -1, window)[5:-5, 5:-5] - mu1_mu2\n",
    "\n",
    "    ssim_map = ((2 * mu1_mu2 + C1) * (2 * sigma12 + C2)) / ((mu1_sq + mu2_sq + C1) *\n",
    "                                                            (sigma1_sq + sigma2_sq + C2))\n",
    "    return ssim_map.mean()\n",
    "\n",
    "\n",
    "def calculate_ssim(img1, img2):\n",
    "    '''calculate SSIM\n",
    "    the same outputs as MATLAB's\n",
    "    img1, img2: [0, 255]\n",
    "    '''\n",
    "    if not img1.shape == img2.shape:\n",
    "        raise ValueError('Input images must have the same dimensions.')\n",
    "    if img1.ndim == 2:\n",
    "        return ssim(img1, img2)\n",
    "    elif img1.ndim == 3:\n",
    "        if img1.shape[2] == 3:\n",
    "            ssims = []\n",
    "            for i in range(3):\n",
    "                ssims.append(ssim(img1, img2))\n",
    "            return np.array(ssims).mean()\n",
    "        elif img1.shape[2] == 1:\n",
    "            return ssim(np.squeeze(img1), np.squeeze(img2))\n",
    "    else:\n",
    "        raise ValueError('Wrong input image dimensions.')"
   ]
  },
  {
   "cell_type": "code",
   "execution_count": 190,
   "metadata": {},
   "outputs": [
    {
     "name": "stdout",
     "output_type": "stream",
     "text": [
      "Forward 8 x 8 DCT\n",
      "Quantising to step size of 17\n",
      "Generating huffcode and ehuf using default tables\n",
      "Coding rows\n",
      "Bits for coded image = 67607\n",
      "{1: bitword(0b00, 2), 2: bitword(0b01, 2), 3: bitword(0b100, 3), 0: bitword(0b1010, 4), 4: bitword(0b1011, 4), 17: bitword(0b1100, 4), 5: bitword(0b11010, 5), 18: bitword(0b11011, 5), 33: bitword(0b11100, 5), 49: bitword(0b111010, 6), 65: bitword(0b111011, 6), 6: bitword(0b1111000, 7), 19: bitword(0b1111001, 7), 81: bitword(0b1111010, 7), 97: bitword(0b1111011, 7), 7: bitword(0b11111000, 8), 34: bitword(0b11111001, 8), 113: bitword(0b11111010, 8), 20: bitword(0b111110110, 9), 50: bitword(0b111110111, 9), 129: bitword(0b111111000, 9), 145: bitword(0b111111001, 9), 161: bitword(0b111111010, 9), 8: bitword(0b1111110110, 10), 35: bitword(0b1111110111, 10), 66: bitword(0b1111111000, 10), 177: bitword(0b1111111001, 10), 193: bitword(0b1111111010, 10), 21: bitword(0b11111110110, 11), 82: bitword(0b11111110111, 11), 209: bitword(0b11111111000, 11), 240: bitword(0b11111111001, 11), 36: bitword(0b111111110100, 12), 51: bitword(0b111111110101, 12), 98: bitword(0b111111110110, 12), 114: bitword(0b111111110111, 12), 130: bitword(0b111111111000000, 15), 9: bitword(0b1111111110000010, 16), 10: bitword(0b1111111110000011, 16), 22: bitword(0b1111111110000100, 16), 23: bitword(0b1111111110000101, 16), 24: bitword(0b1111111110000110, 16), 25: bitword(0b1111111110000111, 16), 26: bitword(0b1111111110001000, 16), 37: bitword(0b1111111110001001, 16), 38: bitword(0b1111111110001010, 16), 39: bitword(0b1111111110001011, 16), 40: bitword(0b1111111110001100, 16), 41: bitword(0b1111111110001101, 16), 42: bitword(0b1111111110001110, 16), 52: bitword(0b1111111110001111, 16), 53: bitword(0b1111111110010000, 16), 54: bitword(0b1111111110010001, 16), 55: bitword(0b1111111110010010, 16), 56: bitword(0b1111111110010011, 16), 57: bitword(0b1111111110010100, 16), 58: bitword(0b1111111110010101, 16), 67: bitword(0b1111111110010110, 16), 68: bitword(0b1111111110010111, 16), 69: bitword(0b1111111110011000, 16), 70: bitword(0b1111111110011001, 16), 71: bitword(0b1111111110011010, 16), 72: bitword(0b1111111110011011, 16), 73: bitword(0b1111111110011100, 16), 74: bitword(0b1111111110011101, 16), 83: bitword(0b1111111110011110, 16), 84: bitword(0b1111111110011111, 16), 85: bitword(0b1111111110100000, 16), 86: bitword(0b1111111110100001, 16), 87: bitword(0b1111111110100010, 16), 88: bitword(0b1111111110100011, 16), 89: bitword(0b1111111110100100, 16), 90: bitword(0b1111111110100101, 16), 99: bitword(0b1111111110100110, 16), 100: bitword(0b1111111110100111, 16), 101: bitword(0b1111111110101000, 16), 102: bitword(0b1111111110101001, 16), 103: bitword(0b1111111110101010, 16), 104: bitword(0b1111111110101011, 16), 105: bitword(0b1111111110101100, 16), 106: bitword(0b1111111110101101, 16), 115: bitword(0b1111111110101110, 16), 116: bitword(0b1111111110101111, 16), 117: bitword(0b1111111110110000, 16), 118: bitword(0b1111111110110001, 16), 119: bitword(0b1111111110110010, 16), 120: bitword(0b1111111110110011, 16), 121: bitword(0b1111111110110100, 16), 122: bitword(0b1111111110110101, 16), 131: bitword(0b1111111110110110, 16), 132: bitword(0b1111111110110111, 16), 133: bitword(0b1111111110111000, 16), 134: bitword(0b1111111110111001, 16), 135: bitword(0b1111111110111010, 16), 136: bitword(0b1111111110111011, 16), 137: bitword(0b1111111110111100, 16), 138: bitword(0b1111111110111101, 16), 146: bitword(0b1111111110111110, 16), 147: bitword(0b1111111110111111, 16), 148: bitword(0b1111111111000000, 16), 149: bitword(0b1111111111000001, 16), 150: bitword(0b1111111111000010, 16), 151: bitword(0b1111111111000011, 16), 152: bitword(0b1111111111000100, 16), 153: bitword(0b1111111111000101, 16), 154: bitword(0b1111111111000110, 16), 162: bitword(0b1111111111000111, 16), 163: bitword(0b1111111111001000, 16), 164: bitword(0b1111111111001001, 16), 165: bitword(0b1111111111001010, 16), 166: bitword(0b1111111111001011, 16), 167: bitword(0b1111111111001100, 16), 168: bitword(0b1111111111001101, 16), 169: bitword(0b1111111111001110, 16), 170: bitword(0b1111111111001111, 16), 178: bitword(0b1111111111010000, 16), 179: bitword(0b1111111111010001, 16), 180: bitword(0b1111111111010010, 16), 181: bitword(0b1111111111010011, 16), 182: bitword(0b1111111111010100, 16), 183: bitword(0b1111111111010101, 16), 184: bitword(0b1111111111010110, 16), 185: bitword(0b1111111111010111, 16), 186: bitword(0b1111111111011000, 16), 194: bitword(0b1111111111011001, 16), 195: bitword(0b1111111111011010, 16), 196: bitword(0b1111111111011011, 16), 197: bitword(0b1111111111011100, 16), 198: bitword(0b1111111111011101, 16), 199: bitword(0b1111111111011110, 16), 200: bitword(0b1111111111011111, 16), 201: bitword(0b1111111111100000, 16), 202: bitword(0b1111111111100001, 16), 210: bitword(0b1111111111100010, 16), 211: bitword(0b1111111111100011, 16), 212: bitword(0b1111111111100100, 16), 213: bitword(0b1111111111100101, 16), 214: bitword(0b1111111111100110, 16), 215: bitword(0b1111111111100111, 16), 216: bitword(0b1111111111101000, 16), 217: bitword(0b1111111111101001, 16), 218: bitword(0b1111111111101010, 16), 225: bitword(0b1111111111101011, 16), 226: bitword(0b1111111111101100, 16), 227: bitword(0b1111111111101101, 16), 228: bitword(0b1111111111101110, 16), 229: bitword(0b1111111111101111, 16), 230: bitword(0b1111111111110000, 16), 231: bitword(0b1111111111110001, 16), 232: bitword(0b1111111111110010, 16), 233: bitword(0b1111111111110011, 16), 234: bitword(0b1111111111110100, 16), 241: bitword(0b1111111111110101, 16), 242: bitword(0b1111111111110110, 16), 243: bitword(0b1111111111110111, 16), 244: bitword(0b1111111111111000, 16), 245: bitword(0b1111111111111001, 16), 246: bitword(0b1111111111111010, 16), 247: bitword(0b1111111111111011, 16), 248: bitword(0b1111111111111100, 16), 249: bitword(0b1111111111111101, 16), 250: bitword(0b1111111111111110, 16)}\n"
     ]
    }
   ],
   "source": [
    "# your code here\n",
    "X, _ = load_mat_img(img='lighthouse.mat', img_info='X')\n",
    "qstep = 17\n",
    "vlc,hufftab = jpegenc(X,qstep)\n",
    "codewords = dict(zip(hufftab.huffval, hufftab.codes))\n",
    "print(codewords)\n",
    "\n",
    "\n"
   ]
  },
  {
   "attachments": {},
   "cell_type": "markdown",
   "metadata": {},
   "source": [
    "This produces variable-length coded data in `vlc`, using quantisation step sizes of qstep.  To decode `vlc`, type:  `Z = jpegdec(vlc, qstep)`"
   ]
  },
  {
   "cell_type": "code",
   "execution_count": 191,
   "metadata": {},
   "outputs": [
    {
     "name": "stdout",
     "output_type": "stream",
     "text": [
      "Generating huffcode and ehuf using default tables\n",
      "Decoding rows\n",
      "Inverse quantising to step size of 17\n",
      "Inverse 8 x 8 DCT\n",
      "\n"
     ]
    }
   ],
   "source": [
    "# your code here\n",
    "Z = jpegdec(vlc,17)\n",
    "plot_image(Z)\n",
    "plt.show()\n"
   ]
  },
  {
   "cell_type": "code",
   "execution_count": 165,
   "metadata": {},
   "outputs": [
    {
     "name": "stdout",
     "output_type": "stream",
     "text": [
      "5.262524463981773\n"
     ]
    }
   ],
   "source": [
    "rms = np.std(X - Z)\n",
    "print(rms)"
   ]
  },
  {
   "attachments": {},
   "cell_type": "markdown",
   "metadata": {},
   "source": []
  },
  {
   "attachments": {},
   "cell_type": "markdown",
   "metadata": {},
   "source": [
    "This `jpeg.py` file is given to you as examples of how to achieve a complete compression\n",
    "system. They have other options and outputs, and in general you will need to copy them to a new\n",
    "file and modify them to perform your own algorithms.\n",
    "\n",
    "In `jpegenc`, there are two ways to specify the Huffman\n",
    "tables: either the default JPEG AC luminance or chrominance tables\n",
    "may be used; or custom tables may be designed, based on statistics\n",
    "in the histogram vector `huffhist`. To generate a valid\n",
    "histogram for `huffdes`, coding must be performed at least\n",
    "once using `huffdflt` instead, so `jpegenc` is written\n",
    "such that the default tables are used first and then, if required,\n",
    "the code is redesigned using custom tables. Note that if it is\n",
    "planned to use `huffdes` to generate an optimised Huffman code\n",
    "for each new image to be coded, then the specification tables `hufftab.bits` and `hufftab.huffval` must be sent with the compressed image,\n",
    "which costs (16 + 162) bytes = 1424 bits.  You should consider\n",
    "whether or not this is a sensible strategy."
   ]
  },
  {
   "attachments": {},
   "cell_type": "markdown",
   "metadata": {},
   "source": [
    "## Going beyond JPEG and the DCT\n",
    "\n",
    "If you have chosen the DCT as one of your energy compaction\n",
    "methods then it is fairly straightforward to follow the JPEG\n",
    "guidelines for coding the coefficients.  However if you have\n",
    "chosen one of the other methods then a modified scanning strategy is required.\n",
    "\n",
    "It has already been mentioned that the LBT (which is at the heart of the JPEG-XR standard) is often coded several sub-blocks at a time. We can make a smaller LBT ($4 \\times 4$ is the default) look like a $16 \\times 16$ DCT by using the `regroup(Yq, 4)` function within each $16 \\times 16$ block of `Yq`. The functions `jpegenc` and `jpegdec` have already been written to do this if the `M` argument (which specifies the {\\em coding} block size) is larger than the `N` argument (which specifies the DCT block size).\n",
    "\n",
    "The DWT (which is the basis of the JPEG2000 standard) can also be re-arranged to make it look similar to a DCT. For instance, a 3-level DWT could be re-arranged into an $8 \\times 8$ block $B$ using coefficients from the same\n",
    "square spatial area:\n",
    "\n",
    "\n",
    "> 4 values from level 3: $B3$ = [$UU_3$ $VU_3$; $UV_3$, $VV_3$]  \n",
    "> 3 surrounding $2 \\times 2$ blocks from level 2: $B2$ = [$B3$ $VU_2$; $UV_2$ $VV_2$]  \n",
    "> 3 surrounding $4 \\times 4$ blocks from level 1: $B$ = [$B2$ $VU_1$; $UV_1$ $VV_1$]\n",
    "\n",
    "It is not possible to achieve this sort of grouping using the simple `regroup` function, so we have provided a more complicated function \n",
    "`dwtgroup(X,n)` which converts an n-level DWT sub-image set into blocks of size $N \\times N$ (where $N = 2^n$) with the above type of grouping.  Try this\n",
    "function on some small regular matrices (e.g. `np.arange(16*16).reshape(16, 16)`) to\n",
    "see how it works. Note that `dwtgroup(X, -n)` reverses this grouping."
   ]
  },
  {
   "cell_type": "code",
   "execution_count": 166,
   "metadata": {},
   "outputs": [
    {
     "name": "stdout",
     "output_type": "stream",
     "text": [
      "[[(0, 0) (0, 2) (0, 4) (0, 5) (0, 1) (0, 3) (0, 6) (0, 7)]\n",
      " [(2, 0) (2, 2) (1, 4) (1, 5) (2, 1) (2, 3) (1, 6) (1, 7)]\n",
      " [(4, 0) (4, 1) (4, 4) (4, 5) (4, 2) (4, 3) (4, 6) (4, 7)]\n",
      " [(5, 0) (5, 1) (5, 4) (5, 5) (5, 2) (5, 3) (5, 6) (5, 7)]\n",
      " [(1, 0) (1, 2) (2, 4) (2, 5) (1, 1) (1, 3) (2, 6) (2, 7)]\n",
      " [(3, 0) (3, 2) (3, 4) (3, 5) (3, 1) (3, 3) (3, 6) (3, 7)]\n",
      " [(6, 0) (6, 1) (6, 4) (6, 5) (6, 2) (6, 3) (6, 6) (6, 7)]\n",
      " [(7, 0) (7, 1) (7, 4) (7, 5) (7, 2) (7, 3) (7, 6) (7, 7)]]\n"
     ]
    }
   ],
   "source": [
    "from cued_sf2_lab.jpeg import dwtgroup\n",
    "# this is a nice trick to get an array of coordinates; use `display(x)` to check what this is doing\n",
    "i, j = np.indices((8, 8))\n",
    "x = np.rec.array((i, j))\n",
    "print(dwtgroup(x, 2))"
   ]
  },
  {
   "attachments": {},
   "cell_type": "markdown",
   "metadata": {},
   "source": [
    "\n",
    "With these modified scanning strategies, the JPEG run-length / log amplitude coding can then be used for each vector in the same way as for the DCT coefficients. However, these scanning strategies are not optimal, and do not represent those outlined in the JPEG2000 and JPEG-XR standards.\n",
    "\n",
    "You should write versions of `jpegenc` and `jpegdec` for\n",
    "your chosen compression strategies and check the following:\n",
    "1. The rms error (standard deviation) between the decoded and original\n",
    "images should be the same as for the equivalent quantisation\n",
    "strategies that were tested in the previous section on\n",
    "centre-clipped linear quantisers.  No extra errors should be\n",
    "introduced by the scanning or Huffman encode / decode operations.\n",
    "\n",
    "2. The number of bits required to code an image should be comparable with\n",
    "the value predicted from the entropy of the quantised coefficients (i.e.\n",
    "within about 20%).  Note that it is possible to code with fewer bits than\n",
    "predicted by the entropy because the run-length coding can take advantage of\n",
    "clustering of non-zero coefficients, which is not taken account of in the\n",
    "first-order entropy calculations.\n",
    "\n"
   ]
  },
  {
   "cell_type": "code",
   "execution_count": 167,
   "metadata": {},
   "outputs": [],
   "source": [
    "from typing import Tuple, NamedTuple, Optional\n",
    "import numpy as np\n",
    "from cued_sf2_lab.dwt import dwt\n",
    "from cued_sf2_lab.laplacian_pyramid import quant1, quant2, quantise\n",
    "from cued_sf2_lab.dct import dct_ii, colxfm, regroup\n",
    "from cued_sf2_lab.bitword import bitword\n",
    "from cued_sf2_lab.jpeg import diagscan, huffdflt, huffgen, runampl, huffenc, huffdes\n",
    "from cued_sf2_lab.lbt import pot_ii"
   ]
  },
  {
   "cell_type": "code",
   "execution_count": 172,
   "metadata": {},
   "outputs": [],
   "source": [
    "X, _ = load_mat_img(img='lighthouse.mat', img_info='X')\n",
    "X = X - 128.0"
   ]
  },
  {
   "cell_type": "code",
   "execution_count": 173,
   "metadata": {},
   "outputs": [],
   "source": [
    "import numpy as np\n",
    "def optimise_step_size(Y,N,s):\n",
    "    Cn = dct_ii(N)\n",
    "    Xq = quantise(X,17)\n",
    "    rms_direct = np.std(X-Xq)\n",
    "    rms_list =[]\n",
    "    errs = []\n",
    "    for i in (np.arange(0,1000)/10):\n",
    "        t = np.s_[N//2:-N//2]\n",
    "        Pf,Pr = pot_ii(N,s)\n",
    "        Z = colxfm(colxfm(quantise(Y,i).T,Cn.T).T,Cn.T)\n",
    "        Zp = Z.copy()\n",
    "        Zp[:,t]=colxfm(Zp[:,t].T,Pr.T).T\n",
    "        Zp[t,:]=colxfm(Zp[t,:],Pr.T)\n",
    "        rms = np.std(X-Zp)\n",
    "        rms_list.append(rms)\n",
    "        errs.append(rms-rms_direct)\n",
    "    ind_opt = np.argmin(np.abs(errs))\n",
    "    step_size_opt = ind_opt/10\n",
    "    return step_size_opt, rms_list[ind_opt]"
   ]
  },
  {
   "cell_type": "code",
   "execution_count": 174,
   "metadata": {},
   "outputs": [],
   "source": [
    "\n",
    "def lbt(X, s, N):\n",
    "    Pf, Pr = pot_ii(N, s)\n",
    "    C = dct_ii(N)\n",
    "    t = np.s_[N//2:-N//2]\n",
    "    Xp = X.copy()\n",
    "    Xp[t, :] = colxfm(Xp[t, :], Pf)\n",
    "    Xp[:, t] = colxfm(Xp[:, t].T, Pf).T\n",
    "    Y = colxfm(colxfm(Xp, C).T, C).T\n",
    "    return Y\n"
   ]
  },
  {
   "cell_type": "code",
   "execution_count": 175,
   "metadata": {},
   "outputs": [
    {
     "name": "stdout",
     "output_type": "stream",
     "text": [
      "(25.9, 4.855072116017472)\n"
     ]
    }
   ],
   "source": [
    "Y8 = lbt(X, np.sqrt(2), 8)\n",
    "\n",
    "print(optimise_step_size(Y8, 8, np.sqrt(2)))"
   ]
  },
  {
   "cell_type": "code",
   "execution_count": 176,
   "metadata": {},
   "outputs": [],
   "source": [
    "def jpegenc_lbt(X: np.ndarray, qstep:float=25.9, N: int = 8, M: int = 8,\n",
    "        opthuff: bool = True, dcbits: int = 8, log: bool = True\n",
    "        ) -> Tuple[np.ndarray, np.ndarray, np.ndarray]:\n",
    "\n",
    "    if M % N != 0:\n",
    "        raise ValueError('M must be an integer multiple of N!')\n",
    "\n",
    "    # DCT on input image X.\n",
    "    if log:\n",
    "        print('Forward {} x {} DCT'.format(N, N))\n",
    "    # C8 = dct_ii(N)\n",
    "    # Y = colxfm(colxfm(X, C8).T, C8).T\n",
    "    Pf, Pr = pot_ii(N, 1.41)\n",
    "    C = dct_ii(N)\n",
    "    t = np.s_[N//2:-N//2]\n",
    "    Xp = X.copy()\n",
    "    Xp[t, :] = colxfm(Xp[t, :], Pf)\n",
    "    Xp[:, t] = colxfm(Xp[:, t].T, Pf).T\n",
    "    Y = colxfm(colxfm(Xp, C).T, C).T\n",
    "    Yq = quantise(Y, qstep, 1*qstep)\n",
    "    Yr = regroup(Yq, N)/N\n",
    "    \n",
    "    # Quantise to integers.\n",
    "    if log:\n",
    "        print('Quantising to step size of {}'.format(qstep))\n",
    "    Yq = quant1(Y, qstep, qstep).astype('int')\n",
    "\n",
    "    # Generate zig-zag scan of AC coefs.\n",
    "    scan = diagscan(M)\n",
    "\n",
    "    # On the first pass use default huffman tables.\n",
    "    if log:\n",
    "        print('Generating huffcode and ehuf using default tables')\n",
    "    dhufftab = huffdflt(1)  # Default tables.\n",
    "    huffcode, ehuf = huffgen(dhufftab)\n",
    "\n",
    "    # Generate run/ampl values and code them into vlc(:,1:2).\n",
    "    # Also generate a histogram of code symbols.\n",
    "    if log:\n",
    "        print('Coding rows')\n",
    "    sy = Yq.shape\n",
    "    huffhist = np.zeros(16 ** 2)\n",
    "    vlc = []\n",
    "    for r in range(0, sy[0], M):\n",
    "        for c in range(0, sy[1], M):\n",
    "            yq = Yq[r:r+M,c:c+M]\n",
    "            # Possibly regroup\n",
    "            if M > N:\n",
    "                yq = regroup(yq, N)\n",
    "            yqflat = yq.flatten('F')\n",
    "            # Encode DC coefficient first\n",
    "            dccoef = yqflat[0] + 2 ** (dcbits-1)\n",
    "            if dccoef not in range(2**dcbits):\n",
    "                raise ValueError(\n",
    "                    'DC coefficients too large for desired number of bits')\n",
    "            vlc.append(np.array([[dccoef, dcbits]]))\n",
    "            # Encode the other AC coefficients in scan order\n",
    "            # huffenc() also updates huffhist.\n",
    "            ra1 = runampl(yqflat[scan])\n",
    "            vlc.append(huffenc(huffhist, ra1, ehuf))\n",
    "    # (0, 2) array makes this work even if `vlc == []`\n",
    "    vlc = np.concatenate([np.zeros((0, 2), dtype=np.intp)] + vlc)\n",
    "\n",
    "    # Return here if the default tables are sufficient, otherwise repeat the\n",
    "    # encoding process using the custom designed huffman tables.\n",
    "    if not opthuff:\n",
    "        if log:\n",
    "            print('Bits for coded image = {}'.format(sum(vlc[:, 1])))\n",
    "        return vlc, dhufftab\n",
    "\n",
    "    # Design custom huffman tables.\n",
    "    if log:\n",
    "        print('Generating huffcode and ehuf using custom tables')\n",
    "    dhufftab = huffdes(huffhist)\n",
    "    huffcode, ehuf = huffgen(dhufftab)\n",
    "\n",
    "    # Generate run/ampl values and code them into vlc(:,1:2).\n",
    "    # Also generate a histogram of code symbols.\n",
    "    if log:\n",
    "        print('Coding rows (second pass)')\n",
    "    huffhist = np.zeros(16 ** 2)\n",
    "    vlc = []\n",
    "    for r in range(0, sy[0], M):\n",
    "        for c in range(0, sy[1], M):\n",
    "            yq = Yq[r:r+M, c:c+M]\n",
    "            # Possibly regroup\n",
    "            if M > N:\n",
    "                yq = regroup(yq, N)\n",
    "            yqflat = yq.flatten('F')\n",
    "            # Encode DC coefficient first\n",
    "            dccoef = yqflat[0] + 2 ** (dcbits-1)\n",
    "            vlc.append(np.array([[dccoef, dcbits]]))\n",
    "            # Encode the other AC coefficients in scan order\n",
    "            # huffenc() also updates huffhist.\n",
    "            ra1 = runampl(yqflat[scan])\n",
    "            vlc.append(huffenc(huffhist, ra1, ehuf))\n",
    "    # (0, 2) array makes this work even if `vlc == []`\n",
    "    vlc = np.concatenate([np.zeros((0, 2), dtype=np.intp)] + vlc)\n",
    "\n",
    "    if log:\n",
    "        print('Bits for coded image = {}'.format(sum(vlc[:, 1])))\n",
    "        print('Bits for huffman table = {}'.format(\n",
    "            (16 + max(dhufftab.huffval.shape))*8))\n",
    "\n",
    "    return vlc, dhufftab\n"
   ]
  },
  {
   "cell_type": "code",
   "execution_count": 177,
   "metadata": {},
   "outputs": [
    {
     "name": "stdout",
     "output_type": "stream",
     "text": [
      "Forward 8 x 8 DCT\n",
      "Quantising to step size of 25.9\n",
      "Generating huffcode and ehuf using default tables\n",
      "Coding rows\n",
      "Generating huffcode and ehuf using custom tables\n",
      "Coding rows (second pass)\n",
      "Bits for coded image = 45950\n",
      "Bits for huffman table = 1424\n"
     ]
    }
   ],
   "source": [
    "vlc,hufftab = jpegenc_lbt(X)\n",
    "# codewords = dict(zip(hufftab.huffval, hufftab.codes))\n",
    "# print(codewords)\n"
   ]
  },
  {
   "cell_type": "code",
   "execution_count": 13,
   "metadata": {},
   "outputs": [],
   "source": [
    "from cued_sf2_lab.jpeg import diagscan, huffdflt, huffgen, runampl, huffenc, huffdes, HuffmanTable"
   ]
  },
  {
   "cell_type": "code",
   "execution_count": null,
   "metadata": {},
   "outputs": [],
   "source": [
    "# hufftab: Optional[HuffmanTable] = None,"
   ]
  },
  {
   "cell_type": "code",
   "execution_count": 184,
   "metadata": {},
   "outputs": [],
   "source": [
    "def jpegdec_lbt(vlc: np.ndarray, qstep: float=25.9, N: int = 8, M: int = 8,\n",
    "        hufftab=hufftab,\n",
    "        dcbits: int = 8, W: int = 256, H: int = 256, log: bool = True\n",
    "        ) -> np.ndarray:\n",
    "    '''\n",
    "    Decodes a (simplified) JPEG bit stream to an image\n",
    "\n",
    "    Parameters:\n",
    "\n",
    "        vlc: variable length output code from jpegenc\n",
    "        qstep: quantisation step to use in decoding\n",
    "        N: width of the DCT block (defaults to 8)\n",
    "        M: width of each block to be coded (defaults to N). Must be an\n",
    "            integer multiple of N - if it is larger, individual blocks are\n",
    "            regrouped.\n",
    "        hufftab: if supplied, these will be used in Huffman decoding\n",
    "            of the data, otherwise default tables are used\n",
    "        dcbits: the number of bits to use to decode the DC coefficients\n",
    "            of the DCT\n",
    "        W, H: the size of the image (defaults to 256 x 256)\n",
    "\n",
    "    Returns:\n",
    "\n",
    "        Z: the output greyscale image\n",
    "    '''\n",
    "\n",
    "    opthuff = (hufftab is not None)\n",
    "    if M % N != 0:\n",
    "        raise ValueError('M must be an integer multiple of N!')\n",
    "\n",
    "    # Set up standard scan sequence\n",
    "    scan = diagscan(M)\n",
    "\n",
    "    if opthuff:\n",
    "        if len(hufftab.bits.shape) != 1:\n",
    "            raise ValueError('bits.shape must be (len(bits),)')\n",
    "        if log:\n",
    "            print('Generating huffcode and ehuf using custom tables')\n",
    "    else:\n",
    "        if log:\n",
    "            print('Generating huffcode and ehuf using default tables')\n",
    "        hufftab = huffdflt(1)\n",
    "    # Define starting addresses of each new code length in huffcode.\n",
    "    # 0-based indexing instead of 1\n",
    "    huffstart = np.cumsum(np.block([0, hufftab.bits[:15]]))\n",
    "    # Set up huffman coding arrays.\n",
    "    huffcode, ehuf = huffgen(hufftab)\n",
    "\n",
    "    # Define array of powers of 2 from 1 to 2^16.\n",
    "    k = 2 ** np.arange(17)\n",
    "\n",
    "    # For each block in the image:\n",
    "\n",
    "    # Decode the dc coef (a fixed-length word)\n",
    "    # Look for any 15/0 code words.\n",
    "    # Choose alternate code words to be decoded (excluding 15/0 ones).\n",
    "    # and mark these with vector t until the next 0/0 EOB code is found.\n",
    "    # Decode all the t huffman codes, and the t+1 amplitude codes.\n",
    "\n",
    "    eob = ehuf[0]\n",
    "    run16 = ehuf[15 * 16]\n",
    "    i = 0\n",
    "    Zq = np.zeros((H, W))\n",
    "\n",
    "    if log:\n",
    "        print('Decoding rows')\n",
    "    for r in range(0, H, M):\n",
    "        for c in range(0, W, M):\n",
    "            yq = np.zeros(M**2)\n",
    "\n",
    "            # Decode DC coef - assume no of bits is correctly given in vlc table.\n",
    "            cf = 0\n",
    "            if vlc[i, 1] != dcbits:\n",
    "                raise ValueError(\n",
    "                    'The bits for the DC coefficient does not agree with vlc table')\n",
    "            yq[cf] = vlc[i, 0] - 2 ** (dcbits-1)\n",
    "            i += 1\n",
    "\n",
    "            # Loop for each non-zero AC coef.\n",
    "            while np.any(vlc[i] != eob):\n",
    "                run = 0\n",
    "\n",
    "                # Decode any runs of 16 zeros first.\n",
    "                while np.all(vlc[i] == run16):\n",
    "                    run += 16\n",
    "                    i += 1\n",
    "\n",
    "                # Decode run and size (in bits) of AC coef.\n",
    "                start = huffstart[vlc[i, 1] - 1]\n",
    "                res = hufftab.huffval[start + vlc[i, 0] - huffcode[start]]\n",
    "                run += res // 16\n",
    "                cf += run + 1\n",
    "                si = res % 16\n",
    "                i += 1\n",
    "\n",
    "                # Decode amplitude of AC coef.\n",
    "                if vlc[i, 1] != si:\n",
    "                    raise ValueError(\n",
    "                        'Problem with decoding .. you might be using the wrong hufftab table')\n",
    "                ampl = vlc[i, 0]\n",
    "\n",
    "                # Adjust ampl for negative coef (i.e. MSB = 0).\n",
    "                thr = k[si - 1]\n",
    "                yq[scan[cf-1]] = ampl - (ampl < thr) * (2 * thr - 1)\n",
    "\n",
    "                i += 1\n",
    "\n",
    "            # End-of-block detected, save block.\n",
    "            i += 1\n",
    "\n",
    "            yq = yq.reshape((M, M)).T\n",
    "\n",
    "            # Possibly regroup yq\n",
    "            if M > N:\n",
    "                yq = regroup(yq, M//N)\n",
    "            Zq[r:r+M, c:c+M] = yq\n",
    "\n",
    "    if log:\n",
    "        print('Inverse quantising to step size of {}'.format(qstep))\n",
    "\n",
    "    Zi = quant2(Zq, qstep, qstep)\n",
    "\n",
    "    if log:\n",
    "        print('Inverse {} x {} DCT\\n'.format(N, N))\n",
    "\n",
    "   \n",
    "    Pf, Pr = pot_ii(N, np.sqrt(2))\n",
    "    C8 = dct_ii(8)\n",
    "    t = np.s_[N//2:-N//2]\n",
    "    Z = colxfm(colxfm(Zi.T, C8.T).T, C8.T)\n",
    "    Zp = Z.copy()\n",
    "    Zp[:, t] = colxfm(Zp[:, t].T, Pr.T).T\n",
    "    Zp[t, :] = colxfm(Zp[t, :], Pr.T)\n",
    "    \n",
    "    \n",
    "\n",
    "    return Zp\n",
    "\n"
   ]
  },
  {
   "cell_type": "code",
   "execution_count": 185,
   "metadata": {},
   "outputs": [],
   "source": [
    "\n",
    "def vlctest(vlc: np.ndarray) -> int:\n",
    "    \"\"\" Test the validity of an array of variable-length codes.\n",
    "\n",
    "    Returns the total number of bits to code the vlc data. \"\"\"\n",
    "    from numpy.lib.recfunctions import (\n",
    "        structured_to_unstructured, unstructured_to_structured)\n",
    "    if not np.all(vlc[:,0] >= 0):\n",
    "        raise ValueError(\"Code words must be non-negative\")\n",
    "    bitwords = unstructured_to_structured(vlc, dtype=bitword.dtype)\n",
    "    bitword.verify(bitwords)\n",
    "    return bitwords['bits'].sum(dtype=np.intp)"
   ]
  },
  {
   "cell_type": "code",
   "execution_count": 186,
   "metadata": {},
   "outputs": [
    {
     "name": "stdout",
     "output_type": "stream",
     "text": [
      "Forward 8 x 8 DCT\n",
      "Quantising to step size of 25.9\n",
      "Generating huffcode and ehuf using default tables\n",
      "Coding rows\n",
      "Generating huffcode and ehuf using custom tables\n",
      "Coding rows (second pass)\n",
      "Bits for coded image = 45950\n",
      "Bits for huffman table = 1424\n",
      "Generating huffcode and ehuf using custom tables\n",
      "Decoding rows\n",
      "Inverse quantising to step size of 25.9\n",
      "Inverse 8 x 8 DCT\n",
      "\n"
     ]
    },
    {
     "data": {
      "image/png": "[encoded data removed]",
      "text/plain": [
       "<Figure size 640x480 with 1 Axes>"
      ]
     },
     "metadata": {},
     "output_type": "display_data"
    }
   ],
   "source": [
    "C8 = dct_ii(8)\n",
    "N = 8\n",
    "\n",
    "vlc,hufftab = jpegenc_lbt(X)\n",
    "\n",
    "\n",
    "Z = jpegdec_lbt(vlc)\n",
    "plot_image(Z)\n",
    "plt.show()\n",
    "\n",
    "# # Pre-filtering and Post-filtering\n",
    "# X_con = jpegenc(X)\n",
    "# reconstruction_error = np.max(np.abs(Zp - X))\n",
    "# if reconstruction_error < 1e-5:\n",
    "#     print(\"Reconstruction is successful: Zp matches X\")\n",
    "# else:\n",
    "#     print(\"Reconstruction failed: Zp does not match X\")"
   ]
  },
  {
   "cell_type": "code",
   "execution_count": 187,
   "metadata": {},
   "outputs": [
    {
     "name": "stdout",
     "output_type": "stream",
     "text": [
      "6.665467435591029\n"
     ]
    }
   ],
   "source": [
    "rms_err = np.std(X-Z)\n",
    "print(rms_err)"
   ]
  },
  {
   "cell_type": "code",
   "execution_count": 188,
   "metadata": {},
   "outputs": [
    {
     "name": "stdout",
     "output_type": "stream",
     "text": [
      "4.964505691375135\n"
     ]
    }
   ],
   "source": [
    "bits_direct = bpp(quantise(X, 17)) * X.size\n",
    "compression_ratio = bits_direct / 45950\n",
    "print(compression_ratio)"
   ]
  },
  {
   "attachments": {},
   "cell_type": "markdown",
   "metadata": {},
   "source": []
  }
 ],
 "metadata": {
  "kernelspec": {
   "display_name": "Python 3.8.13 64-bit ('3.8.13')",
   "language": "python",
   "name": "python3"
  },
  "language_info": {
   "codemirror_mode": {
    "name": "ipython",
    "version": 3
   },
   "file_extension": ".py",
   "mimetype": "text/x-python",
   "name": "python",
   "nbconvert_exporter": "python",
   "pygments_lexer": "ipython3",
   "version": "3.10.4"
  },
  "vscode": {
   "interpreter": {
    "hash": "110cc1dee26208153f2972f08a2ad52b6a56238dc66d48e87fb757ef2996db56"
   }
  }
 },
 "nbformat": 4,
 "nbformat_minor": 2
}
